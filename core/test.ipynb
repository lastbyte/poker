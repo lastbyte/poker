{
 "cells": [
  {
   "cell_type": "code",
   "execution_count": 1,
   "id": "initial_id",
   "metadata": {
    "collapsed": true,
    "ExecuteTime": {
     "end_time": "2023-11-07T18:38:36.758138Z",
     "start_time": "2023-11-07T18:38:36.497688Z"
    }
   },
   "outputs": [
    {
     "data": {
      "text/plain": "{'winning_hand_rank': 5967,\n 'winning_hand_type': '1P',\n 'winning_hand': '2 2 A K J',\n 'winning_hand_description': 'Pair of Deuces',\n 'winning_player': 'Player 1'}"
     },
     "execution_count": 1,
     "metadata": {},
     "output_type": "execute_result"
    }
   ],
   "source": [
    "from core.Card import Card\n",
    "from core.evaluator import find_winning_hand\n",
    "\n",
    "community_cards = [Card(\"2\", \"S\"), Card(\"3\", \"H\"), Card(\"2\", \"D\"), Card(\"J\", \"D\"), Card(\"T\", \"D\")]\n",
    "\n",
    "player1_cards = [Card(\"A\", \"D\"), Card(\"K\", \"C\")]\n",
    "player2_cards = [Card(\"A\", \"S\"), Card(\"9\", \"H\")]\n",
    "player3_cards = [Card(\"A\", \"H\"), Card(\"8\", \"S\")]\n",
    "player4_cards = [Card(\"5\", \"D\"), Card(\"7\", \"C\")]\n",
    "find_winning_hand(community_cards, [player1_cards, player2_cards, player3_cards, player4_cards])\n"
   ]
  },
  {
   "cell_type": "code",
   "execution_count": null,
   "outputs": [],
   "source": [],
   "metadata": {
    "collapsed": false
   },
   "id": "be2024cfd204ec76"
  }
 ],
 "metadata": {
  "kernelspec": {
   "display_name": "Python 3",
   "language": "python",
   "name": "python3"
  },
  "language_info": {
   "codemirror_mode": {
    "name": "ipython",
    "version": 2
   },
   "file_extension": ".py",
   "mimetype": "text/x-python",
   "name": "python",
   "nbconvert_exporter": "python",
   "pygments_lexer": "ipython2",
   "version": "2.7.6"
  }
 },
 "nbformat": 4,
 "nbformat_minor": 5
}
